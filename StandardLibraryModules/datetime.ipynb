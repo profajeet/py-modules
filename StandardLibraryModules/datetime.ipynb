{
 "cells": [
  {
   "cell_type": "code",
   "execution_count": null,
   "metadata": {},
   "outputs": [],
   "source": [
    "# Date Time module in Python\n",
    "# Python provides a module datetime which has a class datetime.\n",
    "# The class datetime provides many functions to work with date and time.\n",
    "# The datetime class has several methods to get current date and time.\n",
    "# The now() method returns the current date and time.   \n",
    "# The today() method returns the current local date.\n",
    "# The utcnow() method returns the current UTC date and time.\n",
    "# The now() method returns the current local date and time.\n",
    "# The today() method returns the current local date.\n",
    "# The utcnow() method returns the current UTC date and time.\n",
    "# The fromtimestamp() method returns the local date and time based on the timestamp.\n",
    "# The fromordinal() method returns the date corresponding to the proleptic Gregorian ordinal.\n",
    "# The combine() method returns the datetime object with the time and date.\n",
    "# The strptime() method creates a datetime object from the given string.\n",
    "# The strftime() method returns the string representing date and time using date, time, or datetime object.\n",
    "# The date() method returns the date object.\n",
    "# The time() method returns the time object.\n",
    "# The datetime() method returns the datetime object.\n",
    "# The replace() method returns the datetime object with the specified fields replaced.\n",
    "# The timetuple() method returns the time tuple.\n",
    "# The utctimetuple() method returns the UTC time tuple.\n",
    "# The timestamp() method returns the timestamp.\n",
    "# The toordinal() method returns the proleptic Gregorian ordinal.\n",
    "# The weekday() method returns the day of the week.\n",
    "# The isoweekday() method returns the day of the week.\n",
    "# The isocalendar() method returns a tuple containing the year, week number, and weekday."
   ]
  },
  {
   "cell_type": "code",
   "execution_count": 1,
   "metadata": {},
   "outputs": [
    {
     "name": "stdout",
     "output_type": "stream",
     "text": [
      "2025-03-14 22:05:52.546854\n"
     ]
    }
   ],
   "source": [
    "from datetime import datetime\n",
    "datetime_object = datetime.now()\n",
    "print(datetime_object)"
   ]
  },
  {
   "cell_type": "code",
   "execution_count": 2,
   "metadata": {},
   "outputs": [
    {
     "data": {
      "text/plain": [
       "datetime.date(2025, 3, 14)"
      ]
     },
     "execution_count": 2,
     "metadata": {},
     "output_type": "execute_result"
    }
   ],
   "source": [
    "datetime_object.date()"
   ]
  },
  {
   "cell_type": "code",
   "execution_count": 3,
   "metadata": {},
   "outputs": [
    {
     "data": {
      "text/plain": [
       "datetime.time(22, 5, 52, 546854)"
      ]
     },
     "execution_count": 3,
     "metadata": {},
     "output_type": "execute_result"
    }
   ],
   "source": [
    "datetime_object.time()"
   ]
  },
  {
   "cell_type": "code",
   "execution_count": 6,
   "metadata": {},
   "outputs": [
    {
     "data": {
      "text/plain": [
       "1741970152.546854"
      ]
     },
     "execution_count": 6,
     "metadata": {},
     "output_type": "execute_result"
    }
   ],
   "source": [
    "datetime_object.timestamp() #.strftime(\"%Y-%m-%d %H:%M:%S\")"
   ]
  },
  {
   "cell_type": "code",
   "execution_count": 8,
   "metadata": {},
   "outputs": [
    {
     "name": "stdout",
     "output_type": "stream",
     "text": [
      "2025-03-14 22:05:52.546854+05:30\n",
      "IST\n",
      "5:30:00\n",
      "None\n",
      "IST\n",
      "time.struct_time(tm_year=2025, tm_mon=3, tm_mday=14, tm_hour=22, tm_min=5, tm_sec=52, tm_wday=4, tm_yday=73, tm_isdst=-1)\n",
      "time.struct_time(tm_year=2025, tm_mon=3, tm_mday=14, tm_hour=16, tm_min=35, tm_sec=52, tm_wday=4, tm_yday=73, tm_isdst=0)\n",
      "739324\n",
      "4\n",
      "5\n",
      "datetime.IsoCalendarDate(year=2025, week=11, weekday=5)\n"
     ]
    }
   ],
   "source": [
    "timezone = datetime_object.astimezone()\n",
    "print(timezone)\n",
    "print(timezone.tzinfo)\n",
    "print(timezone.utcoffset())\n",
    "print(timezone.dst())\n",
    "print(timezone.tzname())\n",
    "print(timezone.timetuple())\n",
    "print(timezone.utctimetuple())\n",
    "print(timezone.toordinal())\n",
    "print(timezone.weekday())\n",
    "print(timezone.isoweekday())\n",
    "print(timezone.isocalendar())"
   ]
  },
  {
   "cell_type": "code",
   "execution_count": null,
   "metadata": {},
   "outputs": [
    {
     "name": "stdout",
     "output_type": "stream",
     "text": [
      "2025-03-14 22:10:06.380113+05:30\n"
     ]
    }
   ],
   "source": [
    "# date time as per region\n",
    "from datetime import datetime\n",
    "import pytz # pytz module is used to work with timezones and it is used to get the timezone of a region.\n",
    "datetime_object = datetime.now(pytz.timezone('Asia/Kolkata'))\n",
    "print(datetime_object)"
   ]
  },
  {
   "cell_type": "code",
   "execution_count": 10,
   "metadata": {},
   "outputs": [
    {
     "name": "stdout",
     "output_type": "stream",
     "text": [
      "2025-03-14 22:11:48.195993\n",
      "2025-03-19 22:11:48.195993\n",
      "2025-03-09 22:11:48.195993\n",
      "2025-04-18 22:11:48.195993\n",
      "2025-02-07 22:11:48.195993\n",
      "2025-03-15 03:11:48.195993\n",
      "2025-03-14 17:11:48.195993\n",
      "2025-03-14 22:16:48.195993\n",
      "2025-03-14 22:06:48.195993\n",
      "2025-03-14 22:11:53.195993\n",
      "2025-03-14 22:11:43.195993\n"
     ]
    }
   ],
   "source": [
    "# date and time operations\n",
    "from datetime import datetime, timedelta\n",
    "datetime_object = datetime.now()\n",
    "print(datetime_object)\n",
    "new_datetime_object = datetime_object + timedelta(days=5)\n",
    "print(new_datetime_object)\n",
    "new_datetime_object = datetime_object - timedelta(days=5)\n",
    "print(new_datetime_object)\n",
    "new_datetime_object = datetime_object + timedelta(weeks=5)\n",
    "print(new_datetime_object)\n",
    "new_datetime_object = datetime_object - timedelta(weeks=5)\n",
    "print(new_datetime_object)\n",
    "new_datetime_object = datetime_object + timedelta(hours=5)\n",
    "print(new_datetime_object)\n",
    "new_datetime_object = datetime_object - timedelta(hours=5)\n",
    "print(new_datetime_object)\n",
    "new_datetime_object = datetime_object + timedelta(minutes=5)\n",
    "print(new_datetime_object)\n",
    "new_datetime_object = datetime_object - timedelta(minutes=5)\n",
    "print(new_datetime_object)\n",
    "new_datetime_object = datetime_object + timedelta(seconds=5)\n",
    "print(new_datetime_object)\n",
    "new_datetime_object = datetime_object - timedelta(seconds=5)\n",
    "print(new_datetime_object)"
   ]
  },
  {
   "cell_type": "code",
   "execution_count": 11,
   "metadata": {},
   "outputs": [
    {
     "data": {
      "text/plain": [
       "'2025-03-14 22:11:48'"
      ]
     },
     "execution_count": 11,
     "metadata": {},
     "output_type": "execute_result"
    }
   ],
   "source": [
    "datetime_object.strftime(\"%Y-%m-%d %H:%M:%S\")"
   ]
  },
  {
   "cell_type": "code",
   "execution_count": 13,
   "metadata": {},
   "outputs": [
    {
     "data": {
      "text/plain": [
       "'2025-03-14 22:11:48 PM'"
      ]
     },
     "execution_count": 13,
     "metadata": {},
     "output_type": "execute_result"
    }
   ],
   "source": [
    "datetime_object.strftime(\"%Y-%m-%d %H:%M:%S %p\")"
   ]
  },
  {
   "cell_type": "code",
   "execution_count": 16,
   "metadata": {},
   "outputs": [
    {
     "name": "stdout",
     "output_type": "stream",
     "text": [
      "3\n",
      "14\n",
      "2025\n",
      "22\n",
      "11\n",
      "48\n",
      "195993\n"
     ]
    }
   ],
   "source": [
    "print(datetime_object.month)\n",
    "print(datetime_object.day)\n",
    "print(datetime_object.year)\n",
    "print(datetime_object.hour)\n",
    "print(datetime_object.minute)\n",
    "print(datetime_object.second)\n",
    "print(datetime_object.microsecond)\n"
   ]
  },
  {
   "cell_type": "code",
   "execution_count": null,
   "metadata": {},
   "outputs": [],
   "source": []
  }
 ],
 "metadata": {
  "kernelspec": {
   "display_name": "AVenv",
   "language": "python",
   "name": "python3"
  },
  "language_info": {
   "codemirror_mode": {
    "name": "ipython",
    "version": 3
   },
   "file_extension": ".py",
   "mimetype": "text/x-python",
   "name": "python",
   "nbconvert_exporter": "python",
   "pygments_lexer": "ipython3",
   "version": "3.13.2"
  }
 },
 "nbformat": 4,
 "nbformat_minor": 2
}
