{
 "cells": [
  {
   "cell_type": "markdown",
   "metadata": {},
   "source": [
    "### The typing module provides several powerful types and utilities that enhance Python's type hinting capabilities.\n",
    "#### Overview of Available Types and Utilities\n",
    "- Annotated: Adds metadata to type hints.\n",
    "- TypedDict: Defines dictionaries with specific keys and value types.\n",
    "- Literal: Restricts a variable to a set of predefined values.\n",
    "- Protocol: Allows structural subtyping.\n",
    "- Final: Ensures that a variable or method cannot be overridden.\n",
    "- TypeAlias: Allows for the creation of alias names for types.\n",
    "- Self: Represents an instance of a class in method annotations."
   ]
  },
  {
   "cell_type": "markdown",
   "metadata": {},
   "source": [
    "The typing_extensions module provides backports of new features from the standard library's typing module, enabling users of older Python versions to use these features, and it also serves as a testing ground for type system features proposed in PEPs before they are added to the typing module\n",
    "- https://www.geeksforgeeks.org/introduction-to-python-typing-extensions-module/\n",
    "- https://medium.com/@moraneus/exploring-the-power-of-pythons-typing-library-ff32cec44981"
   ]
  },
  {
   "cell_type": "code",
   "execution_count": 4,
   "metadata": {},
   "outputs": [],
   "source": [
    "# The Annotated type allows developers to attach metadata to existing types.\n",
    "from typing import Annotated\n",
    "def calculate_distance(speed: Annotated[int, 'km/h'], time: Annotated[int, 'hours']) -> int:\n",
    "    return speed * time"
   ]
  },
  {
   "cell_type": "code",
   "execution_count": 5,
   "metadata": {},
   "outputs": [
    {
     "name": "stdout",
     "output_type": "stream",
     "text": [
      "{'name': 'Arun'}\n"
     ]
    }
   ],
   "source": [
    "# TypedDict enables developers to specify the structure of dictionaries, enforcing both the keys and their associated types.\n",
    "from typing import NotRequired, TypedDict\n",
    "\n",
    "class EmployeeOptional(TypedDict):\n",
    "    name: str\n",
    "    age: NotRequired[int]  # Optional field\n",
    "\n",
    "employee = EmployeeOptional(name=\"Arun\")\n",
    "print(employee)\n"
   ]
  },
  {
   "cell_type": "code",
   "execution_count": 8,
   "metadata": {},
   "outputs": [
    {
     "name": "stdout",
     "output_type": "stream",
     "text": [
      "Setting environment to development\n"
     ]
    },
    {
     "ename": "Exception",
     "evalue": "Unknown env value!",
     "output_type": "error",
     "traceback": [
      "\u001b[0;31m---------------------------------------------------------------------------\u001b[0m",
      "\u001b[0;31mException\u001b[0m                                 Traceback (most recent call last)",
      "Cell \u001b[0;32mIn[8], line 11\u001b[0m\n\u001b[1;32m      8\u001b[0m     \u001b[38;5;28mprint\u001b[39m(\u001b[38;5;124mf\u001b[39m\u001b[38;5;124m\"\u001b[39m\u001b[38;5;124mSetting environment to \u001b[39m\u001b[38;5;132;01m{\u001b[39;00menv\u001b[38;5;132;01m}\u001b[39;00m\u001b[38;5;124m\"\u001b[39m)\n\u001b[1;32m     10\u001b[0m set_environment(\u001b[38;5;124m'\u001b[39m\u001b[38;5;124mdevelopment\u001b[39m\u001b[38;5;124m'\u001b[39m)\n\u001b[0;32m---> 11\u001b[0m \u001b[43mset_environment\u001b[49m\u001b[43m(\u001b[49m\u001b[38;5;124;43m'\u001b[39;49m\u001b[38;5;124;43mstaging\u001b[39;49m\u001b[38;5;124;43m'\u001b[39;49m\u001b[43m)\u001b[49m \u001b[38;5;66;03m# Raises an error\u001b[39;00m\n",
      "Cell \u001b[0;32mIn[8], line 7\u001b[0m, in \u001b[0;36mset_environment\u001b[0;34m(env)\u001b[0m\n\u001b[1;32m      5\u001b[0m \u001b[38;5;28;01mdef\u001b[39;00m\u001b[38;5;250m \u001b[39m\u001b[38;5;21mset_environment\u001b[39m(env: Literal[\u001b[38;5;124m'\u001b[39m\u001b[38;5;124mdevelopment\u001b[39m\u001b[38;5;124m'\u001b[39m, \u001b[38;5;124m'\u001b[39m\u001b[38;5;124mproduction\u001b[39m\u001b[38;5;124m'\u001b[39m]) \u001b[38;5;241m-\u001b[39m\u001b[38;5;241m>\u001b[39m \u001b[38;5;28;01mNone\u001b[39;00m:\n\u001b[1;32m      6\u001b[0m     \u001b[38;5;28;01mif\u001b[39;00m env \u001b[38;5;129;01mnot\u001b[39;00m \u001b[38;5;129;01min\u001b[39;00m [\u001b[38;5;124m'\u001b[39m\u001b[38;5;124mdevelopment\u001b[39m\u001b[38;5;124m'\u001b[39m, \u001b[38;5;124m'\u001b[39m\u001b[38;5;124mproduction\u001b[39m\u001b[38;5;124m'\u001b[39m]:\n\u001b[0;32m----> 7\u001b[0m       \u001b[38;5;28;01mraise\u001b[39;00m \u001b[38;5;167;01mException\u001b[39;00m(\u001b[38;5;124m\"\u001b[39m\u001b[38;5;124mUnknown env value!\u001b[39m\u001b[38;5;124m\"\u001b[39m)\n\u001b[1;32m      8\u001b[0m     \u001b[38;5;28mprint\u001b[39m(\u001b[38;5;124mf\u001b[39m\u001b[38;5;124m\"\u001b[39m\u001b[38;5;124mSetting environment to \u001b[39m\u001b[38;5;132;01m{\u001b[39;00menv\u001b[38;5;132;01m}\u001b[39;00m\u001b[38;5;124m\"\u001b[39m)\n",
      "\u001b[0;31mException\u001b[0m: Unknown env value!"
     ]
    }
   ],
   "source": [
    "# The Literal type restricts a variable to a specific set of constant values.\n",
    "# from typing_extensions import Literal\n",
    "from typing import Literal\n",
    "\n",
    "def set_environment(env: Literal['development', 'production']) -> None:\n",
    "    if env not in ['development', 'production']:\n",
    "      raise Exception(\"Unknown env value!\")\n",
    "    print(f\"Setting environment to {env}\")\n",
    "\n",
    "set_environment('development')\n",
    "set_environment('staging') # Raises an error"
   ]
  },
  {
   "cell_type": "code",
   "execution_count": 9,
   "metadata": {},
   "outputs": [
    {
     "name": "stdout",
     "output_type": "stream",
     "text": [
      "Driving a car\n"
     ]
    }
   ],
   "source": [
    "# Protocol allows for structural subtyping, which means that a class can be considered a subtype of a protocol if it implements the required methods, regardless of whether it explicitly inherits from the protocol.\n",
    "from typing import Protocol\n",
    "\n",
    "class Drivable(Protocol):\n",
    "    def drive(self) -> None:\n",
    "        pass\n",
    "\n",
    "class Car:\n",
    "    def drive(self) -> None:\n",
    "        print(\"Driving a car\")\n",
    "\n",
    "def test_drive(vehicle: Drivable) -> None:\n",
    "    vehicle.drive()\n",
    "\n",
    "\n",
    "car = Car()\n",
    "test_drive(car)\n"
   ]
  },
  {
   "cell_type": "code",
   "execution_count": 18,
   "metadata": {},
   "outputs": [
    {
     "name": "stdout",
     "output_type": "stream",
     "text": [
      "3.14159\n",
      "3.12\n"
     ]
    }
   ],
   "source": [
    "# The Final keyword indicates a variable, method, or class from being constants and tells not to override or reassign, ensuring immutability and protecting key parts of our code from unintended changes.\n",
    "from typing import Final\n",
    "\n",
    "PI: Final = 3.14159\n",
    "print(PI)\n",
    "PI= 3.12\n",
    "print(PI)"
   ]
  },
  {
   "cell_type": "code",
   "execution_count": 19,
   "metadata": {},
   "outputs": [
    {
     "name": "stdout",
     "output_type": "stream",
     "text": [
      "Moving to (10, 20)\n"
     ]
    }
   ],
   "source": [
    "# TypeAlias allows us to create meaningful aliases for complex type hints, improving the readability of our code. This is particularly helpful when dealing with complex types that are reused in multiple places.\n",
    "from typing import TypeAlias\n",
    "\n",
    "# Alias for a tuple of two integers\n",
    "Coordinate: TypeAlias = tuple[int, int]\n",
    "\n",
    "def move_to(position: Coordinate) -> None:\n",
    "    print(f\"Moving to {position}\")\n",
    "\n",
    "move_to((10, 20))\n"
   ]
  },
  {
   "cell_type": "code",
   "execution_count": 20,
   "metadata": {},
   "outputs": [
    {
     "name": "stdout",
     "output_type": "stream",
     "text": [
      "{'name': 'Example'}\n"
     ]
    }
   ],
   "source": [
    "# The Self type simplifies method annotations by allowing us to indicate that a method returns an instance of the class it belongs to. This is especially useful for fluent interfaces, where methods return the same object for method chaining\n",
    "from typing import Self\n",
    "\n",
    "class Builder:\n",
    "    def set_name(self, name: str) -> Self:\n",
    "        self.name = name\n",
    "        return self\n",
    "\n",
    "    def build(self) -> dict:\n",
    "        return {'name': self.name}\n",
    "\n",
    "builder = Builder().set_name('Example').build()\n",
    "print(builder)\n"
   ]
  },
  {
   "cell_type": "code",
   "execution_count": 22,
   "metadata": {},
   "outputs": [],
   "source": [
    "# The Optional type is a powerful feature for indicating that a variable or return type could be of a specified type or None\n",
    "from typing import Optional\n",
    "\n",
    "def get_name(id: str) -> Optional[str]:\n",
    "    pass\n",
    "    # Returns person name if the id is found, else None\n"
   ]
  },
  {
   "cell_type": "code",
   "execution_count": 23,
   "metadata": {},
   "outputs": [],
   "source": [
    "# The Any type is used when the type of a variable is unknown and can be anything\n",
    "from typing import Any\n",
    "\n",
    "def some_function(argument: Any) -> Any:\n",
    "    # Can get and return any type\n",
    "    pass"
   ]
  },
  {
   "cell_type": "code",
   "execution_count": 24,
   "metadata": {},
   "outputs": [],
   "source": [
    "# o define a list where all items are of a specific type, use the List type from the typing module followed by the type of the items in square brackets\n",
    "from typing import List\n",
    "\n",
    "# A list of integers\n",
    "numbers: List[int] = [1, 2, 3, 4, 5]\n",
    "\n",
    "# A list of strings\n",
    "names: List[str] = [\"Ben\", \"Bob\", \"Bill\"]\n"
   ]
  },
  {
   "cell_type": "code",
   "execution_count": 25,
   "metadata": {},
   "outputs": [],
   "source": [
    "from typing import Tuple\n",
    "\n",
    "# A tuple containing an integer and a string\n",
    "person: Tuple[int, str] = (1, \"Ben\")\n",
    "\n",
    "# A tuple with a string, float, and a boolean\n",
    "item: Tuple[str, float, bool] = (\"book\", 19.99, True)"
   ]
  },
  {
   "cell_type": "code",
   "execution_count": 26,
   "metadata": {},
   "outputs": [],
   "source": [
    "from typing import Dict\n",
    "\n",
    "# A dictionary with string keys and integer values\n",
    "age_map: Dict[str, int] = {\"Ben\": 30, \"Bob\": 25}\n",
    "\n",
    "# A dictionary with integer keys and list of strings as values\n",
    "students_in_classes: Dict[int, List[str]] = {101: [\"Ben\", \"Bob\"], 102: [\"Charlie\", \"Dave\"]}"
   ]
  },
  {
   "cell_type": "code",
   "execution_count": 27,
   "metadata": {},
   "outputs": [],
   "source": [
    "from typing import Union\n",
    "\n",
    "# This variable can be either an int or a str\n",
    "number_or_string: Union[int, str] = 5"
   ]
  },
  {
   "cell_type": "code",
   "execution_count": null,
   "metadata": {},
   "outputs": [],
   "source": []
  }
 ],
 "metadata": {
  "kernelspec": {
   "display_name": "AVenv",
   "language": "python",
   "name": "python3"
  },
  "language_info": {
   "codemirror_mode": {
    "name": "ipython",
    "version": 3
   },
   "file_extension": ".py",
   "mimetype": "text/x-python",
   "name": "python",
   "nbconvert_exporter": "python",
   "pygments_lexer": "ipython3",
   "version": "3.13.2"
  }
 },
 "nbformat": 4,
 "nbformat_minor": 2
}
