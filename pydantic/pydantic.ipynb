{
 "cells": [
  {
   "cell_type": "markdown",
   "metadata": {},
   "source": [
    "#### Pydantic is the most widely used data validation library for Python."
   ]
  },
  {
   "cell_type": "code",
   "execution_count": null,
   "metadata": {},
   "outputs": [
    {
     "ename": "ModuleNotFoundError",
     "evalue": "No module named 'logfire'",
     "output_type": "error",
     "traceback": [
      "\u001b[0;31m---------------------------------------------------------------------------\u001b[0m",
      "\u001b[0;31mModuleNotFoundError\u001b[0m                       Traceback (most recent call last)",
      "Cell \u001b[0;32mIn[2], line 3\u001b[0m\n\u001b[1;32m      1\u001b[0m \u001b[38;5;28;01mfrom\u001b[39;00m\u001b[38;5;250m \u001b[39m\u001b[38;5;21;01mdatetime\u001b[39;00m\u001b[38;5;250m \u001b[39m\u001b[38;5;28;01mimport\u001b[39;00m datetime\n\u001b[0;32m----> 3\u001b[0m \u001b[38;5;28;01mimport\u001b[39;00m\u001b[38;5;250m \u001b[39m\u001b[38;5;21;01mlogfire\u001b[39;00m\n\u001b[1;32m      5\u001b[0m \u001b[38;5;28;01mfrom\u001b[39;00m\u001b[38;5;250m \u001b[39m\u001b[38;5;21;01mpydantic\u001b[39;00m\u001b[38;5;250m \u001b[39m\u001b[38;5;28;01mimport\u001b[39;00m BaseModel\n\u001b[1;32m      7\u001b[0m logfire\u001b[38;5;241m.\u001b[39mconfigure()\n",
      "\u001b[0;31mModuleNotFoundError\u001b[0m: No module named 'logfire'"
     ]
    }
   ],
   "source": [
    "from datetime import datetime\n",
    "\n",
    "import logfire # \n",
    "\n",
    "from pydantic import BaseModel\n",
    "\n",
    "logfire.configure()\n",
    "logfire.instrument_pydantic()  \n",
    "\n",
    "\n",
    "class Delivery(BaseModel):\n",
    "    timestamp: datetime\n",
    "    dimensions: tuple[int, int]\n",
    "\n",
    "\n",
    "# this will record details of a successful validation to logfire\n",
    "m = Delivery(timestamp='2020-01-02T03:04:05Z', dimensions=['10', '20'])\n",
    "print(repr(m.timestamp))\n",
    "#> datetime.datetime(2020, 1, 2, 3, 4, 5, tzinfo=TzInfo(UTC))\n",
    "print(m.dimensions)\n",
    "#> (10, 20)\n",
    "\n",
    "Delivery(timestamp='2020-01-02T03:04:05Z', dimensions=['10'])"
   ]
  },
  {
   "cell_type": "code",
   "execution_count": 1,
   "metadata": {},
   "outputs": [
    {
     "name": "stdout",
     "output_type": "stream",
     "text": [
      "123\n",
      "{'id': 123, 'name': 'John Doe', 'signup_ts': datetime.datetime(2019, 6, 1, 12, 22), 'tastes': {'wine': 9, 'cheese': 7, 'cabbage': 1}}\n"
     ]
    },
    {
     "data": {
      "text/plain": [
       "\"\\n{\\n    'id': 123,\\n    'name': 'John Doe',\\n    'signup_ts': datetime.datetime(2019, 6, 1, 12, 22),\\n    'tastes': {'wine': 9, 'cheese': 7, 'cabbage': 1},\\n}\\n\""
      ]
     },
     "execution_count": 1,
     "metadata": {},
     "output_type": "execute_result"
    }
   ],
   "source": [
    "from datetime import datetime\n",
    "\n",
    "from pydantic import BaseModel, PositiveInt\n",
    "\n",
    "\n",
    "class User(BaseModel):\n",
    "    id: int  \n",
    "    name: str = 'John Doe'  \n",
    "    signup_ts: datetime | None  \n",
    "    tastes: dict[str, PositiveInt]  \n",
    "\n",
    "\n",
    "external_data = {\n",
    "    'id': 123,\n",
    "    'signup_ts': '2019-06-01 12:22',  \n",
    "    'tastes': {\n",
    "        'wine': 9,\n",
    "        b'cheese': 7,  \n",
    "        'cabbage': '1',  \n",
    "    },\n",
    "}\n",
    "\n",
    "user = User(**external_data)  \n",
    "\n",
    "print(user.id)  \n",
    "#> 123\n",
    "print(user.model_dump())  \n",
    "\"\"\"\n",
    "{\n",
    "    'id': 123,\n",
    "    'name': 'John Doe',\n",
    "    'signup_ts': datetime.datetime(2019, 6, 1, 12, 22),\n",
    "    'tastes': {'wine': 9, 'cheese': 7, 'cabbage': 1},\n",
    "}\n",
    "\"\"\""
   ]
  },
  {
   "cell_type": "code",
   "execution_count": null,
   "metadata": {},
   "outputs": [],
   "source": []
  }
 ],
 "metadata": {
  "kernelspec": {
   "display_name": "AVenv",
   "language": "python",
   "name": "python3"
  },
  "language_info": {
   "codemirror_mode": {
    "name": "ipython",
    "version": 3
   },
   "file_extension": ".py",
   "mimetype": "text/x-python",
   "name": "python",
   "nbconvert_exporter": "python",
   "pygments_lexer": "ipython3",
   "version": "3.13.2"
  }
 },
 "nbformat": 4,
 "nbformat_minor": 2
}
